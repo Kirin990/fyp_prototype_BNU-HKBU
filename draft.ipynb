{
 "cells": [
  {
   "cell_type": "code",
   "execution_count": 1,
   "metadata": {
    "collapsed": true
   },
   "outputs": [],
   "source": [
    "import glob\n",
    "import pickle\n",
    "import numpy as np\n",
    "from music21 import converter, instrument, note, chord\n",
    "from keras.models import Sequential\n",
    "from keras.layers import Dense\n",
    "from keras.layers import Dropout\n",
    "from keras.layers import LSTM\n",
    "from keras.layers import Activation\n",
    "from keras.layers import BatchNormalization as BatchNorm\n",
    "from keras.utils import np_utils\n",
    "from keras.callbacks import ModelCheckpoint"
   ]
  },
  {
   "cell_type": "code",
   "execution_count": 2,
   "outputs": [
    {
     "name": "stdout",
     "output_type": "stream",
     "text": [
      "Parsing midi_songs/mz_570_1.mid\n",
      "Parsing midi_songs/mz_570_2.mid\n",
      "Parsing midi_songs/mz_570_3.mid\n",
      "Parsing midi_songs/mz_545_1.mid\n",
      "Parsing midi_songs/mz_332_3.mid\n",
      "Parsing midi_songs/mz_330_1.mid\n",
      "Parsing midi_songs/mz_332_2.mid\n",
      "Parsing midi_songs/mz_545_2.mid\n",
      "Parsing midi_songs/mz_330_2.mid\n",
      "Parsing midi_songs/mz_330_3.mid\n",
      "Parsing midi_songs/mz_332_1.mid\n",
      "Parsing midi_songs/mz_545_3.mid\n",
      "Parsing midi_songs/mz_331_2.mid\n",
      "Parsing midi_songs/mz_333_1.mid\n",
      "Parsing midi_songs/mz_331_3.mid\n",
      "Parsing midi_songs/mz_331_1.mid\n",
      "Parsing midi_songs/mz_333_3.mid\n",
      "Parsing midi_songs/mz_333_2.mid\n",
      "Parsing midi_songs/mz_311_1.mid\n",
      "Parsing midi_songs/mz_311_2.mid\n",
      "Parsing midi_songs/mz_311_3.mid\n"
     ]
    }
   ],
   "source": [
    "def get_notes():\n",
    "    \"\"\" Get all the notes and chords from the midi files in the ./midi_songs directory \"\"\"\n",
    "    notes = []\n",
    "\n",
    "    for file in glob.glob(\"midi_songs/*.mid\"):\n",
    "        midi = converter.parse(file)\n",
    "\n",
    "        print(\"Parsing %s\" % file)\n",
    "        notes_to_parse = midi.flat.notes\n",
    "\n",
    "        for element in notes_to_parse:\n",
    "            if isinstance(element, note.Note):\n",
    "                notes.append(str(element.pitch))\n",
    "            elif isinstance(element, chord.Chord):\n",
    "                notes.append('.'.join(str(n) for n in element.normalOrder))\n",
    "\n",
    "    with open('data/notes', 'wb') as filepath:\n",
    "        pickle.dump(notes, filepath)\n",
    "\n",
    "    return notes\n",
    "\n",
    "notes=get_notes()"
   ],
   "metadata": {
    "collapsed": false,
    "pycharm": {
     "name": "#%%\n"
    }
   }
  },
  {
   "cell_type": "code",
   "execution_count": 3,
   "outputs": [
    {
     "data": {
      "text/plain": "['B-4', 'B-3', 'F4', 'F3', 'D4', 'D3', 'F4', 'F3', 'B-4', 'B-3']"
     },
     "execution_count": 3,
     "metadata": {},
     "output_type": "execute_result"
    }
   ],
   "source": [
    "notes[:10]"
   ],
   "metadata": {
    "collapsed": false,
    "pycharm": {
     "name": "#%%\n"
    }
   }
  },
  {
   "cell_type": "code",
   "execution_count": 4,
   "outputs": [
    {
     "data": {
      "text/plain": "197"
     },
     "execution_count": 4,
     "metadata": {},
     "output_type": "execute_result"
    }
   ],
   "source": [
    "class_id=np.unique(notes)\n",
    "len(class_id)"
   ],
   "metadata": {
    "collapsed": false,
    "pycharm": {
     "name": "#%%\n"
    }
   }
  },
  {
   "cell_type": "code",
   "execution_count": 5,
   "outputs": [],
   "source": [
    "class_num=[]\n",
    "count=0\n",
    "for id in class_id:\n",
    "    for j in range(len(notes)):\n",
    "        if notes[j]==id:\n",
    "            count+=1\n",
    "    class_num.append(count)\n",
    "    count=0"
   ],
   "metadata": {
    "collapsed": false,
    "pycharm": {
     "name": "#%%\n"
    }
   }
  },
  {
   "cell_type": "code",
   "execution_count": 6,
   "outputs": [
    {
     "data": {
      "text/plain": "<Figure size 432x288 with 1 Axes>",
      "image/png": "[encoded data removed]"
     },
     "metadata": {
      "image/png": {
       "width": 381,
       "height": 248
      },
      "needs_background": "light"
     },
     "output_type": "display_data"
    },
    {
     "data": {
      "text/plain": "<Figure size 2160x864 with 0 Axes>"
     },
     "metadata": {},
     "output_type": "display_data"
    }
   ],
   "source": [
    "import matplotlib.pyplot as plt\n",
    "\n",
    "plt.bar(class_id,class_num)\n",
    "plt.figure(figsize=(30,12))\n",
    "plt.show()"
   ],
   "metadata": {
    "collapsed": false,
    "pycharm": {
     "name": "#%%\n"
    }
   }
  }
 ],
 "metadata": {
  "kernelspec": {
   "display_name": "Python 3",
   "language": "python",
   "name": "python3"
  },
  "language_info": {
   "codemirror_mode": {
    "name": "ipython",
    "version": 2
   },
   "file_extension": ".py",
   "mimetype": "text/x-python",
   "name": "python",
   "nbconvert_exporter": "python",
   "pygments_lexer": "ipython2",
   "version": "2.7.6"
  }
 },
 "nbformat": 4,
 "nbformat_minor": 0
}